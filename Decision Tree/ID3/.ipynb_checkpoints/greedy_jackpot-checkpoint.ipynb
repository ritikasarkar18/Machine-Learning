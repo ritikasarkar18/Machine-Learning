{
 "cells": [
  {
   "cell_type": "code",
   "execution_count": 5,
   "metadata": {},
   "outputs": [],
   "source": [
    "import numpy as np\n",
    "\n",
    "# Number of bandits\n",
    "k = 3\n",
    "\n",
    "# Our action values\n",
    "Q = [0 for _ in range(k)]\n",
    "\n",
    "# This is to keep track of the number of times we take each action\n",
    "N = [0 for _ in range(k)]\n",
    "\n",
    "# Epsilon value for exploration\n",
    "eps = 0.1\n",
    "\n",
    "# True probability of winning for each bandit\n",
    "p_bandits = [0.45, 0.40, 0.80]"
   ]
  },
  {
   "cell_type": "code",
   "execution_count": 7,
   "metadata": {},
   "outputs": [],
   "source": [
    "def pull(a):\n",
    "    \"\"\"Pull arm of bandit with index `i` and return 1 if win, \n",
    "    else return 0.\"\"\"\n",
    "    if np.random.rand() < p_bandits[a]:\n",
    "        return 1\n",
    "    else:\n",
    "        return 0"
   ]
  },
  {
   "cell_type": "code",
   "execution_count": 8,
   "metadata": {},
   "outputs": [],
   "source": [
    "incr=1\n",
    "while incr < 10000:\n",
    "    if np.random.rand() > eps:\n",
    "        # Take greedy action most of the time\n",
    "        a = np.argmax(Q)\n",
    "    else:\n",
    "        # Take random action with probability eps\n",
    "        a = np.random.randint(0, k)\n",
    "    \n",
    "    # Collect reward\n",
    "    reward = pull(a)\n",
    "    \n",
    "    # Incremental average\n",
    "    N[a] += 1\n",
    "    Q[a] += 1/N[a] * (reward - Q[a])\n",
    "    incr+=1"
   ]
  },
  {
   "cell_type": "code",
   "execution_count": 9,
   "metadata": {},
   "outputs": [
    {
     "data": {
      "text/plain": [
       "[0.4221556886227546, 0.3902439024390242, 0.8005783442219117]"
      ]
     },
     "execution_count": 9,
     "metadata": {},
     "output_type": "execute_result"
    }
   ],
   "source": [
    "Q"
   ]
  },
  {
   "cell_type": "code",
   "execution_count": null,
   "metadata": {},
   "outputs": [],
   "source": [
    "[0.45, 0.40, 0.80]"
   ]
  }
 ],
 "metadata": {
  "kernelspec": {
   "display_name": "Python 3",
   "language": "python",
   "name": "python3"
  },
  "language_info": {
   "codemirror_mode": {
    "name": "ipython",
    "version": 3
   },
   "file_extension": ".py",
   "mimetype": "text/x-python",
   "name": "python",
   "nbconvert_exporter": "python",
   "pygments_lexer": "ipython3",
   "version": "3.6.7"
  }
 },
 "nbformat": 4,
 "nbformat_minor": 2
}
