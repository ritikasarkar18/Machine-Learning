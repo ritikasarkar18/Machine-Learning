{
 "cells": [
  {
   "cell_type": "code",
   "execution_count": 3,
   "metadata": {},
   "outputs": [],
   "source": [
    "# Importing the libraries\n",
    "import numpy as np\n",
    "import matplotlib.pyplot as plt\n",
    "import pandas as pd\n",
    "from tqdm import tqdm_notebook as tqdm\n",
    "\n",
    "# Importing the dataset\n",
    "dataset = pd.read_csv('~/Downloads/rl/data/Ads_Optimisation.csv')\n",
    "adp=(dataset.sum()/dataset.shape[0]).tolist()\n"
   ]
  },
  {
   "cell_type": "code",
   "execution_count": 22,
   "metadata": {},
   "outputs": [
    {
     "data": {
      "text/html": [
       "<div>\n",
       "<style scoped>\n",
       "    .dataframe tbody tr th:only-of-type {\n",
       "        vertical-align: middle;\n",
       "    }\n",
       "\n",
       "    .dataframe tbody tr th {\n",
       "        vertical-align: top;\n",
       "    }\n",
       "\n",
       "    .dataframe thead th {\n",
       "        text-align: right;\n",
       "    }\n",
       "</style>\n",
       "<table border=\"1\" class=\"dataframe\">\n",
       "  <thead>\n",
       "    <tr style=\"text-align: right;\">\n",
       "      <th></th>\n",
       "      <th>Ad 1</th>\n",
       "      <th>Ad 2</th>\n",
       "      <th>Ad 3</th>\n",
       "      <th>Ad 4</th>\n",
       "      <th>Ad 5</th>\n",
       "      <th>Ad 6</th>\n",
       "      <th>Ad 7</th>\n",
       "      <th>Ad 8</th>\n",
       "      <th>Ad 9</th>\n",
       "      <th>Ad 10</th>\n",
       "    </tr>\n",
       "  </thead>\n",
       "  <tbody>\n",
       "    <tr>\n",
       "      <td>0</td>\n",
       "      <td>1</td>\n",
       "      <td>0</td>\n",
       "      <td>0</td>\n",
       "      <td>0</td>\n",
       "      <td>1</td>\n",
       "      <td>0</td>\n",
       "      <td>0</td>\n",
       "      <td>0</td>\n",
       "      <td>1</td>\n",
       "      <td>0</td>\n",
       "    </tr>\n",
       "    <tr>\n",
       "      <td>1</td>\n",
       "      <td>0</td>\n",
       "      <td>0</td>\n",
       "      <td>0</td>\n",
       "      <td>0</td>\n",
       "      <td>0</td>\n",
       "      <td>0</td>\n",
       "      <td>0</td>\n",
       "      <td>0</td>\n",
       "      <td>1</td>\n",
       "      <td>0</td>\n",
       "    </tr>\n",
       "    <tr>\n",
       "      <td>2</td>\n",
       "      <td>0</td>\n",
       "      <td>0</td>\n",
       "      <td>0</td>\n",
       "      <td>0</td>\n",
       "      <td>0</td>\n",
       "      <td>0</td>\n",
       "      <td>0</td>\n",
       "      <td>0</td>\n",
       "      <td>0</td>\n",
       "      <td>0</td>\n",
       "    </tr>\n",
       "    <tr>\n",
       "      <td>3</td>\n",
       "      <td>0</td>\n",
       "      <td>1</td>\n",
       "      <td>0</td>\n",
       "      <td>0</td>\n",
       "      <td>0</td>\n",
       "      <td>0</td>\n",
       "      <td>0</td>\n",
       "      <td>1</td>\n",
       "      <td>0</td>\n",
       "      <td>0</td>\n",
       "    </tr>\n",
       "    <tr>\n",
       "      <td>4</td>\n",
       "      <td>0</td>\n",
       "      <td>0</td>\n",
       "      <td>0</td>\n",
       "      <td>0</td>\n",
       "      <td>0</td>\n",
       "      <td>0</td>\n",
       "      <td>0</td>\n",
       "      <td>0</td>\n",
       "      <td>0</td>\n",
       "      <td>0</td>\n",
       "    </tr>\n",
       "    <tr>\n",
       "      <td>...</td>\n",
       "      <td>...</td>\n",
       "      <td>...</td>\n",
       "      <td>...</td>\n",
       "      <td>...</td>\n",
       "      <td>...</td>\n",
       "      <td>...</td>\n",
       "      <td>...</td>\n",
       "      <td>...</td>\n",
       "      <td>...</td>\n",
       "      <td>...</td>\n",
       "    </tr>\n",
       "    <tr>\n",
       "      <td>9995</td>\n",
       "      <td>0</td>\n",
       "      <td>0</td>\n",
       "      <td>1</td>\n",
       "      <td>0</td>\n",
       "      <td>0</td>\n",
       "      <td>0</td>\n",
       "      <td>0</td>\n",
       "      <td>1</td>\n",
       "      <td>0</td>\n",
       "      <td>0</td>\n",
       "    </tr>\n",
       "    <tr>\n",
       "      <td>9996</td>\n",
       "      <td>0</td>\n",
       "      <td>0</td>\n",
       "      <td>0</td>\n",
       "      <td>0</td>\n",
       "      <td>0</td>\n",
       "      <td>0</td>\n",
       "      <td>0</td>\n",
       "      <td>0</td>\n",
       "      <td>0</td>\n",
       "      <td>0</td>\n",
       "    </tr>\n",
       "    <tr>\n",
       "      <td>9997</td>\n",
       "      <td>0</td>\n",
       "      <td>0</td>\n",
       "      <td>0</td>\n",
       "      <td>0</td>\n",
       "      <td>0</td>\n",
       "      <td>0</td>\n",
       "      <td>0</td>\n",
       "      <td>0</td>\n",
       "      <td>0</td>\n",
       "      <td>0</td>\n",
       "    </tr>\n",
       "    <tr>\n",
       "      <td>9998</td>\n",
       "      <td>1</td>\n",
       "      <td>0</td>\n",
       "      <td>0</td>\n",
       "      <td>0</td>\n",
       "      <td>0</td>\n",
       "      <td>0</td>\n",
       "      <td>0</td>\n",
       "      <td>1</td>\n",
       "      <td>0</td>\n",
       "      <td>0</td>\n",
       "    </tr>\n",
       "    <tr>\n",
       "      <td>9999</td>\n",
       "      <td>0</td>\n",
       "      <td>1</td>\n",
       "      <td>0</td>\n",
       "      <td>0</td>\n",
       "      <td>0</td>\n",
       "      <td>0</td>\n",
       "      <td>0</td>\n",
       "      <td>0</td>\n",
       "      <td>0</td>\n",
       "      <td>0</td>\n",
       "    </tr>\n",
       "  </tbody>\n",
       "</table>\n",
       "<p>10000 rows × 10 columns</p>\n",
       "</div>"
      ],
      "text/plain": [
       "      Ad 1  Ad 2  Ad 3  Ad 4  Ad 5  Ad 6  Ad 7  Ad 8  Ad 9  Ad 10\n",
       "0        1     0     0     0     1     0     0     0     1      0\n",
       "1        0     0     0     0     0     0     0     0     1      0\n",
       "2        0     0     0     0     0     0     0     0     0      0\n",
       "3        0     1     0     0     0     0     0     1     0      0\n",
       "4        0     0     0     0     0     0     0     0     0      0\n",
       "...    ...   ...   ...   ...   ...   ...   ...   ...   ...    ...\n",
       "9995     0     0     1     0     0     0     0     1     0      0\n",
       "9996     0     0     0     0     0     0     0     0     0      0\n",
       "9997     0     0     0     0     0     0     0     0     0      0\n",
       "9998     1     0     0     0     0     0     0     1     0      0\n",
       "9999     0     1     0     0     0     0     0     0     0      0\n",
       "\n",
       "[10000 rows x 10 columns]"
      ]
     },
     "execution_count": 22,
     "metadata": {},
     "output_type": "execute_result"
    }
   ],
   "source": [
    "dataset"
   ]
  },
  {
   "cell_type": "code",
   "execution_count": 4,
   "metadata": {},
   "outputs": [
    {
     "data": {
      "text/plain": [
       "[0.1703,\n",
       " 0.1295,\n",
       " 0.0728,\n",
       " 0.1196,\n",
       " 0.2695,\n",
       " 0.0126,\n",
       " 0.1112,\n",
       " 0.2091,\n",
       " 0.0952,\n",
       " 0.0489]"
      ]
     },
     "execution_count": 4,
     "metadata": {},
     "output_type": "execute_result"
    }
   ],
   "source": [
    "adp"
   ]
  },
  {
   "cell_type": "code",
   "execution_count": 5,
   "metadata": {},
   "outputs": [],
   "source": [
    "def get_reward(a):\n",
    "    \"\"\"Pull arm of bandit with index `i` and return 1 if win, \n",
    "    else return 0.\"\"\"\n",
    "    if np.random.random() < adp[a]:\n",
    "        return 1\n",
    "    else:\n",
    "        return 0\n"
   ]
  },
  {
   "cell_type": "code",
   "execution_count": 6,
   "metadata": {},
   "outputs": [],
   "source": [
    "### argmax function\n",
    "def argmax(q_values):\n",
    "    \"\"\"\n",
    "    Takes in a list of q_values and returns the index\n",
    "    of the item with the highest value. Breaks ties randomly.\n",
    "    returns: int - the index of the highest value in q_values\n",
    "    \"\"\"\n",
    "    #top = float(\"-inf\")\n",
    "    ties = []\n",
    "    \n",
    "    top=max(q_values)\n",
    "    \n",
    "    j=0\n",
    "    for i in q_values:\n",
    "        # if a value in q_values is greater than the highest value, then update top and reset ties to zero\n",
    "        # if a value is equal to top value, then add the index to ties (hint: do this no matter what)\n",
    "        # Note: You do not have to follow this exact solution. You can choose to do your own implementation.\n",
    "        if i==top:\n",
    "            ties.append(j)\n",
    "        j+=1\n",
    "    \n",
    "    \n",
    "    # return a random selection from ties. (hint: look at np.random.choice)\n",
    "    return np.random.choice(ties)\n",
    "    #return ties[0]"
   ]
  },
  {
   "cell_type": "code",
   "execution_count": 7,
   "metadata": {},
   "outputs": [],
   "source": [
    "def get_action(q_values, rndm, epsilon):\n",
    "    if rndm==1:\n",
    "        current_action=np.random.randint(0, len(ads_cnt))\n",
    "    else:\n",
    "        current_action=argmax(q_values)\n",
    "    #print(current_action)\n",
    "    return current_action"
   ]
  },
  {
   "cell_type": "code",
   "execution_count": 32,
   "metadata": {
    "scrolled": true
   },
   "outputs": [
    {
     "name": "stderr",
     "output_type": "stream",
     "text": [
      "/Library/Frameworks/Python.framework/Versions/3.6/lib/python3.6/site-packages/ipykernel_launcher.py:17: TqdmDeprecationWarning: This function will be removed in tqdm==5.0.0\n",
      "Please use `tqdm.notebook.tqdm` instead of `tqdm.tqdm_notebook`\n"
     ]
    },
    {
     "data": {
      "application/vnd.jupyter.widget-view+json": {
       "model_id": "ccd2d532b9d24647baa386a3dd44a828",
       "version_major": 2,
       "version_minor": 0
      },
      "text/plain": [
       "HBox(children=(IntProgress(value=0, max=1), HTML(value='')))"
      ]
     },
     "metadata": {},
     "output_type": "display_data"
    },
    {
     "name": "stdout",
     "output_type": "stream",
     "text": [
      "\n"
     ]
    },
    {
     "data": {
      "text/plain": [
       "0    9991\n",
       "3       2\n",
       "9       2\n",
       "7       1\n",
       "5       1\n",
       "4       1\n",
       "2       1\n",
       "8       1\n",
       "dtype: int64"
      ]
     },
     "execution_count": 32,
     "metadata": {},
     "output_type": "execute_result"
    }
   ],
   "source": [
    "### implementing greedy selection\n",
    "\n",
    "#### return\n",
    "#### q values\n",
    "#### count of each action\n",
    "\n",
    "#### argmax\n",
    "\n",
    "experiments=1\n",
    "steps=dataset.shape[0]\n",
    "arms=dataset.shape[1]\n",
    "ads_cnt=[0]*arms\n",
    "greedy_ads_selected=[]\n",
    "all_greedy_averages = []\n",
    "greedy_q_hist=[]\n",
    "\n",
    "for k in tqdm(range(experiments)):\n",
    "    scores = [0]\n",
    "    averages = []\n",
    "    q_values=np.zeros(arms, dtype=np.float)\n",
    "    \n",
    "    for i in range(steps):        \n",
    "        a = argmax(q_values)\n",
    "        ads_cnt[a]+=1\n",
    "        #reward=dataset.iloc[i, current_action]\n",
    "        reward=get_reward(a)\n",
    "        q_values[a] += (1/ads_cnt[a])*(reward - q_values[a])\n",
    "        \n",
    "        #for jj in range(len(ads_cnt)):\n",
    "        #    if ads_cnt[j] > 0:\n",
    "        #        reward=dataset.iloc[i,j]\n",
    "        #        q_values[j]= q_values[j] + (1/ads_cnt[j])*(reward - q_values[j])\n",
    "\n",
    "\n",
    "        #reward=dataset.iloc[i, current_action]\n",
    "        greedy_ads_selected.append(a)\n",
    "\n",
    "        scores.append(scores[-1] + reward)\n",
    "        averages.append(scores[-1] / (i + 1))\n",
    "            \n",
    "    all_greedy_averages.append(averages)\n",
    "    greedy_q_hist.append(q_values)\n",
    "pd.Series(greedy_ads_selected).value_counts(normalize=False)"
   ]
  },
  {
   "cell_type": "code",
   "execution_count": 39,
   "metadata": {},
   "outputs": [
    {
     "name": "stderr",
     "output_type": "stream",
     "text": [
      "/Library/Frameworks/Python.framework/Versions/3.6/lib/python3.6/site-packages/ipykernel_launcher.py:12: TqdmDeprecationWarning: This function will be removed in tqdm==5.0.0\n",
      "Please use `tqdm.notebook.tqdm` instead of `tqdm.tqdm_notebook`\n",
      "  if sys.path[0] == '':\n"
     ]
    },
    {
     "data": {
      "application/vnd.jupyter.widget-view+json": {
       "model_id": "43163cafd47347838d30caf26d94e3cb",
       "version_major": 2,
       "version_minor": 0
      },
      "text/plain": [
       "HBox(children=(IntProgress(value=0, max=1), HTML(value='')))"
      ]
     },
     "metadata": {},
     "output_type": "display_data"
    },
    {
     "name": "stdout",
     "output_type": "stream",
     "text": [
      "\n"
     ]
    },
    {
     "data": {
      "text/plain": [
       "4    9991\n",
       "7       1\n",
       "6       1\n",
       "5       1\n",
       "3       1\n",
       "2       1\n",
       "9       1\n",
       "1       1\n",
       "8       1\n",
       "0       1\n",
       "dtype: int64"
      ]
     },
     "execution_count": 39,
     "metadata": {},
     "output_type": "execute_result"
    }
   ],
   "source": [
    "### implementing optimistic initial values\n",
    "\n",
    "epsilon=0.05\n",
    "experiments=1\n",
    "steps=dataset.shape[0]\n",
    "arms=dataset.shape[1]\n",
    "ads_cnt=[0]*arms\n",
    "epsilon_ads_selected=[]\n",
    "all_epsilon_averages = []\n",
    "epsilon_q_hist=[]\n",
    "\n",
    "for k in tqdm(range(experiments)):\n",
    "    scores = [0]\n",
    "    averages = []\n",
    "    q_values=[5]*arms\n",
    "    \n",
    "    for i in range(steps):        \n",
    "        if np.random.rand() > epsilon:\n",
    "            # Take greedy action most of the time\n",
    "            a = np.argmax(q_values)\n",
    "        else:\n",
    "            # Take random action with probability eps\n",
    "            a = np.random.randint(0, arms)\n",
    "            \n",
    "        \n",
    "        a = argmax(q_values)\n",
    "        ads_cnt[a]+=1\n",
    "        #reward=dataset.iloc[i, current_action]\n",
    "        reward=get_reward(a)\n",
    "        q_values[a] += (1/ads_cnt[a])*(reward - q_values[a])\n",
    "        \n",
    "        #for jj in range(len(ads_cnt)):\n",
    "        #    if ads_cnt[j] > 0:\n",
    "        #        reward=dataset.iloc[i,j]\n",
    "        #        q_values[j]= q_values[j] + (1/ads_cnt[j])*(reward - q_values[j])\n",
    "\n",
    "\n",
    "        #reward=dataset.iloc[i, current_action]\n",
    "        epsilon_ads_selected.append(a)\n",
    "\n",
    "        scores.append(scores[-1] + reward)\n",
    "        averages.append(scores[-1] / (i + 1))\n",
    "            \n",
    "    all_epsilon_averages.append(averages)\n",
    "    epsilon_q_hist.append(q_values)\n",
    "pd.Series(epsilon_ads_selected).value_counts(normalize=False)"
   ]
  },
  {
   "cell_type": "code",
   "execution_count": null,
   "metadata": {},
   "outputs": [],
   "source": [
    "#implement upper confidence bound"
   ]
  }
 ],
 "metadata": {
  "kernelspec": {
   "display_name": "Python 3",
   "language": "python",
   "name": "python3"
  },
  "language_info": {
   "codemirror_mode": {
    "name": "ipython",
    "version": 3
   },
   "file_extension": ".py",
   "mimetype": "text/x-python",
   "name": "python",
   "nbconvert_exporter": "python",
   "pygments_lexer": "ipython3",
   "version": "3.8.5"
  }
 },
 "nbformat": 4,
 "nbformat_minor": 4
}
